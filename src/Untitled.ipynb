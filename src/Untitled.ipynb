{
 "cells": [
  {
   "cell_type": "code",
   "execution_count": 76,
   "metadata": {},
   "outputs": [],
   "source": [
    "import pandas as pd\n",
    "import numpy as np"
   ]
  },
  {
   "cell_type": "code",
   "execution_count": 77,
   "metadata": {},
   "outputs": [],
   "source": [
    "df = pd.read_csv('../data/historic_nfl_elo.csv')"
   ]
  },
  {
   "cell_type": "code",
   "execution_count": 78,
   "metadata": {},
   "outputs": [
    {
     "data": {
      "text/html": [
       "<div>\n",
       "<style scoped>\n",
       "    .dataframe tbody tr th:only-of-type {\n",
       "        vertical-align: middle;\n",
       "    }\n",
       "\n",
       "    .dataframe tbody tr th {\n",
       "        vertical-align: top;\n",
       "    }\n",
       "\n",
       "    .dataframe thead th {\n",
       "        text-align: right;\n",
       "    }\n",
       "</style>\n",
       "<table border=\"1\" class=\"dataframe\">\n",
       "  <thead>\n",
       "    <tr style=\"text-align: right;\">\n",
       "      <th></th>\n",
       "      <th>Unnamed: 0</th>\n",
       "      <th>date</th>\n",
       "      <th>season</th>\n",
       "      <th>neutral</th>\n",
       "      <th>playoff</th>\n",
       "      <th>team1</th>\n",
       "      <th>team2</th>\n",
       "      <th>elo1_pre</th>\n",
       "      <th>elo2_pre</th>\n",
       "      <th>elo_prob1</th>\n",
       "      <th>...</th>\n",
       "      <th>qbelo_prob1</th>\n",
       "      <th>qbelo_prob2</th>\n",
       "      <th>qb1_game_value</th>\n",
       "      <th>qb2_game_value</th>\n",
       "      <th>qb1_value_post</th>\n",
       "      <th>qb2_value_post</th>\n",
       "      <th>qbelo1_post</th>\n",
       "      <th>qbelo2_post</th>\n",
       "      <th>score1</th>\n",
       "      <th>score2</th>\n",
       "    </tr>\n",
       "  </thead>\n",
       "  <tbody>\n",
       "    <tr>\n",
       "      <th>0</th>\n",
       "      <td>0</td>\n",
       "      <td>1920-09-26</td>\n",
       "      <td>1920</td>\n",
       "      <td>0</td>\n",
       "      <td>NaN</td>\n",
       "      <td>RII</td>\n",
       "      <td>STP</td>\n",
       "      <td>1503.947</td>\n",
       "      <td>1300.000</td>\n",
       "      <td>0.824651</td>\n",
       "      <td>...</td>\n",
       "      <td>NaN</td>\n",
       "      <td>NaN</td>\n",
       "      <td>NaN</td>\n",
       "      <td>NaN</td>\n",
       "      <td>NaN</td>\n",
       "      <td>NaN</td>\n",
       "      <td>NaN</td>\n",
       "      <td>NaN</td>\n",
       "      <td>48.0</td>\n",
       "      <td>0.0</td>\n",
       "    </tr>\n",
       "    <tr>\n",
       "      <th>1</th>\n",
       "      <td>1</td>\n",
       "      <td>1920-10-03</td>\n",
       "      <td>1920</td>\n",
       "      <td>0</td>\n",
       "      <td>NaN</td>\n",
       "      <td>DAY</td>\n",
       "      <td>COL</td>\n",
       "      <td>1493.002</td>\n",
       "      <td>1504.908</td>\n",
       "      <td>0.575819</td>\n",
       "      <td>...</td>\n",
       "      <td>NaN</td>\n",
       "      <td>NaN</td>\n",
       "      <td>NaN</td>\n",
       "      <td>NaN</td>\n",
       "      <td>NaN</td>\n",
       "      <td>NaN</td>\n",
       "      <td>NaN</td>\n",
       "      <td>NaN</td>\n",
       "      <td>14.0</td>\n",
       "      <td>0.0</td>\n",
       "    </tr>\n",
       "    <tr>\n",
       "      <th>2</th>\n",
       "      <td>2</td>\n",
       "      <td>1920-10-03</td>\n",
       "      <td>1920</td>\n",
       "      <td>0</td>\n",
       "      <td>NaN</td>\n",
       "      <td>RII</td>\n",
       "      <td>MUN</td>\n",
       "      <td>1516.108</td>\n",
       "      <td>1478.004</td>\n",
       "      <td>0.644171</td>\n",
       "      <td>...</td>\n",
       "      <td>NaN</td>\n",
       "      <td>NaN</td>\n",
       "      <td>NaN</td>\n",
       "      <td>NaN</td>\n",
       "      <td>NaN</td>\n",
       "      <td>NaN</td>\n",
       "      <td>NaN</td>\n",
       "      <td>NaN</td>\n",
       "      <td>45.0</td>\n",
       "      <td>0.0</td>\n",
       "    </tr>\n",
       "    <tr>\n",
       "      <th>3</th>\n",
       "      <td>3</td>\n",
       "      <td>1920-10-03</td>\n",
       "      <td>1920</td>\n",
       "      <td>0</td>\n",
       "      <td>NaN</td>\n",
       "      <td>CHI</td>\n",
       "      <td>MUT</td>\n",
       "      <td>1368.333</td>\n",
       "      <td>1300.000</td>\n",
       "      <td>0.682986</td>\n",
       "      <td>...</td>\n",
       "      <td>NaN</td>\n",
       "      <td>NaN</td>\n",
       "      <td>NaN</td>\n",
       "      <td>NaN</td>\n",
       "      <td>NaN</td>\n",
       "      <td>NaN</td>\n",
       "      <td>NaN</td>\n",
       "      <td>NaN</td>\n",
       "      <td>20.0</td>\n",
       "      <td>0.0</td>\n",
       "    </tr>\n",
       "    <tr>\n",
       "      <th>4</th>\n",
       "      <td>4</td>\n",
       "      <td>1920-10-03</td>\n",
       "      <td>1920</td>\n",
       "      <td>0</td>\n",
       "      <td>NaN</td>\n",
       "      <td>CBD</td>\n",
       "      <td>PTQ</td>\n",
       "      <td>1504.688</td>\n",
       "      <td>1300.000</td>\n",
       "      <td>0.825267</td>\n",
       "      <td>...</td>\n",
       "      <td>NaN</td>\n",
       "      <td>NaN</td>\n",
       "      <td>NaN</td>\n",
       "      <td>NaN</td>\n",
       "      <td>NaN</td>\n",
       "      <td>NaN</td>\n",
       "      <td>NaN</td>\n",
       "      <td>NaN</td>\n",
       "      <td>48.0</td>\n",
       "      <td>0.0</td>\n",
       "    </tr>\n",
       "  </tbody>\n",
       "</table>\n",
       "<p>5 rows × 31 columns</p>\n",
       "</div>"
      ],
      "text/plain": [
       "   Unnamed: 0        date  season  neutral playoff team1 team2  elo1_pre  \\\n",
       "0           0  1920-09-26    1920        0     NaN   RII   STP  1503.947   \n",
       "1           1  1920-10-03    1920        0     NaN   DAY   COL  1493.002   \n",
       "2           2  1920-10-03    1920        0     NaN   RII   MUN  1516.108   \n",
       "3           3  1920-10-03    1920        0     NaN   CHI   MUT  1368.333   \n",
       "4           4  1920-10-03    1920        0     NaN   CBD   PTQ  1504.688   \n",
       "\n",
       "   elo2_pre  elo_prob1  ...  qbelo_prob1  qbelo_prob2  qb1_game_value  \\\n",
       "0  1300.000   0.824651  ...          NaN          NaN             NaN   \n",
       "1  1504.908   0.575819  ...          NaN          NaN             NaN   \n",
       "2  1478.004   0.644171  ...          NaN          NaN             NaN   \n",
       "3  1300.000   0.682986  ...          NaN          NaN             NaN   \n",
       "4  1300.000   0.825267  ...          NaN          NaN             NaN   \n",
       "\n",
       "   qb2_game_value  qb1_value_post qb2_value_post qbelo1_post  qbelo2_post  \\\n",
       "0             NaN             NaN            NaN         NaN          NaN   \n",
       "1             NaN             NaN            NaN         NaN          NaN   \n",
       "2             NaN             NaN            NaN         NaN          NaN   \n",
       "3             NaN             NaN            NaN         NaN          NaN   \n",
       "4             NaN             NaN            NaN         NaN          NaN   \n",
       "\n",
       "   score1  score2  \n",
       "0    48.0     0.0  \n",
       "1    14.0     0.0  \n",
       "2    45.0     0.0  \n",
       "3    20.0     0.0  \n",
       "4    48.0     0.0  \n",
       "\n",
       "[5 rows x 31 columns]"
      ]
     },
     "execution_count": 78,
     "metadata": {},
     "output_type": "execute_result"
    }
   ],
   "source": [
    "df.head()"
   ]
  },
  {
   "cell_type": "code",
   "execution_count": 79,
   "metadata": {},
   "outputs": [],
   "source": [
    "df = df.loc[df[\"season\"] >= 1970].iloc[:,1:]"
   ]
  },
  {
   "cell_type": "code",
   "execution_count": 80,
   "metadata": {},
   "outputs": [],
   "source": [
    "def count_na(df):\n",
    "    \"\"\"\n",
    "    counts rows in which there is an NA value.\n",
    "    run time of O(d*n)\n",
    "    \"\"\"\n",
    "    count = 0\n",
    "    for i in range(len(df.index)) :\n",
    "        if df.iloc[i].isnull().sum() > 0:\n",
    "            count +=1\n",
    "    return count"
   ]
  },
  {
   "cell_type": "code",
   "execution_count": 81,
   "metadata": {},
   "outputs": [
    {
     "data": {
      "text/plain": [
       "11495"
      ]
     },
     "execution_count": 81,
     "metadata": {},
     "output_type": "execute_result"
    }
   ],
   "source": [
    "count_na(df)"
   ]
  },
  {
   "cell_type": "code",
   "execution_count": 82,
   "metadata": {},
   "outputs": [],
   "source": [
    "df = df.drop(df.filter(regex='post').columns, axis=1).drop(df.filter(regex='team').columns, axis=1).drop(['playoff','qb1','qb2','date','qb1_adj','qb2_adj'],axis=1)"
   ]
  },
  {
   "cell_type": "code",
   "execution_count": 83,
   "metadata": {},
   "outputs": [
    {
     "data": {
      "text/plain": [
       "3"
      ]
     },
     "execution_count": 83,
     "metadata": {},
     "output_type": "execute_result"
    }
   ],
   "source": [
    "count_na(df)"
   ]
  },
  {
   "cell_type": "code",
   "execution_count": 84,
   "metadata": {},
   "outputs": [],
   "source": [
    "def f(df):\n",
    "    if df['score1'] == df['score2']:\n",
    "        val = 'tie'\n",
    "    elif df['score1'] > df['score2']:\n",
    "        val = 'winner'\n",
    "    else:\n",
    "        val = 'loser'\n",
    "    return val"
   ]
  },
  {
   "cell_type": "code",
   "execution_count": 85,
   "metadata": {},
   "outputs": [],
   "source": [
    "df['status'] = df.apply(f, axis = 1)\n",
    "df = df.drop(['score1','score2'],axis=1).dropna()"
   ]
  },
  {
   "cell_type": "code",
   "execution_count": 86,
   "metadata": {},
   "outputs": [
    {
     "data": {
      "text/plain": [
       "0"
      ]
     },
     "execution_count": 86,
     "metadata": {},
     "output_type": "execute_result"
    }
   ],
   "source": [
    "count_na(df)"
   ]
  },
  {
   "cell_type": "code",
   "execution_count": 72,
   "metadata": {},
   "outputs": [
    {
     "name": "stdout",
     "output_type": "stream",
     "text": [
      "<class 'pandas.core.frame.DataFrame'>\n",
      "Int64Index: 11992 entries, 4549 to 16540\n",
      "Data columns (total 15 columns):\n",
      "season            11992 non-null int64\n",
      "neutral           11992 non-null int64\n",
      "elo1_pre          11991 non-null float64\n",
      "elo2_pre          11991 non-null float64\n",
      "elo_prob1         11991 non-null float64\n",
      "elo_prob2         11991 non-null float64\n",
      "qbelo1_pre        11989 non-null float64\n",
      "qbelo2_pre        11989 non-null float64\n",
      "qb1_value_pre     11991 non-null float64\n",
      "qb2_value_pre     11991 non-null float64\n",
      "qbelo_prob1       11991 non-null float64\n",
      "qbelo_prob2       11991 non-null float64\n",
      "qb1_game_value    11989 non-null float64\n",
      "qb2_game_value    11989 non-null float64\n",
      "status            11992 non-null object\n",
      "dtypes: float64(12), int64(2), object(1)\n",
      "memory usage: 1.5+ MB\n"
     ]
    }
   ],
   "source": [
    "df.info()"
   ]
  },
  {
   "cell_type": "code",
   "execution_count": 71,
   "metadata": {},
   "outputs": [
    {
     "data": {
      "text/html": [
       "<div>\n",
       "<style scoped>\n",
       "    .dataframe tbody tr th:only-of-type {\n",
       "        vertical-align: middle;\n",
       "    }\n",
       "\n",
       "    .dataframe tbody tr th {\n",
       "        vertical-align: top;\n",
       "    }\n",
       "\n",
       "    .dataframe thead th {\n",
       "        text-align: right;\n",
       "    }\n",
       "</style>\n",
       "<table border=\"1\" class=\"dataframe\">\n",
       "  <thead>\n",
       "    <tr style=\"text-align: right;\">\n",
       "      <th></th>\n",
       "      <th>season</th>\n",
       "      <th>neutral</th>\n",
       "      <th>elo1_pre</th>\n",
       "      <th>elo2_pre</th>\n",
       "      <th>elo_prob1</th>\n",
       "      <th>elo_prob2</th>\n",
       "      <th>qbelo1_pre</th>\n",
       "      <th>qbelo2_pre</th>\n",
       "      <th>qb1_value_pre</th>\n",
       "      <th>qb2_value_pre</th>\n",
       "      <th>qbelo_prob1</th>\n",
       "      <th>qbelo_prob2</th>\n",
       "      <th>qb1_game_value</th>\n",
       "      <th>qb2_game_value</th>\n",
       "      <th>status</th>\n",
       "    </tr>\n",
       "  </thead>\n",
       "  <tbody>\n",
       "    <tr>\n",
       "      <th>4549</th>\n",
       "      <td>1970</td>\n",
       "      <td>0</td>\n",
       "      <td>1583.202</td>\n",
       "      <td>1426.127</td>\n",
       "      <td>0.782172</td>\n",
       "      <td>0.217828</td>\n",
       "      <td>1575.663197</td>\n",
       "      <td>1419.063694</td>\n",
       "      <td>128.244691</td>\n",
       "      <td>49.900901</td>\n",
       "      <td>0.787242</td>\n",
       "      <td>0.212758</td>\n",
       "      <td>243.822534</td>\n",
       "      <td>28.506966</td>\n",
       "      <td>winner</td>\n",
       "    </tr>\n",
       "    <tr>\n",
       "      <th>4550</th>\n",
       "      <td>1970</td>\n",
       "      <td>0</td>\n",
       "      <td>1475.119</td>\n",
       "      <td>1382.173</td>\n",
       "      <td>0.712839</td>\n",
       "      <td>0.287161</td>\n",
       "      <td>1468.322928</td>\n",
       "      <td>1392.110372</td>\n",
       "      <td>157.629495</td>\n",
       "      <td>62.866097</td>\n",
       "      <td>0.702241</td>\n",
       "      <td>0.297759</td>\n",
       "      <td>140.963726</td>\n",
       "      <td>132.279803</td>\n",
       "      <td>loser</td>\n",
       "    </tr>\n",
       "    <tr>\n",
       "      <th>4551</th>\n",
       "      <td>1970</td>\n",
       "      <td>0</td>\n",
       "      <td>1396.972</td>\n",
       "      <td>1638.776</td>\n",
       "      <td>0.265463</td>\n",
       "      <td>0.734537</td>\n",
       "      <td>1395.779057</td>\n",
       "      <td>1634.838107</td>\n",
       "      <td>71.546016</td>\n",
       "      <td>134.503032</td>\n",
       "      <td>0.260615</td>\n",
       "      <td>0.739385</td>\n",
       "      <td>219.250540</td>\n",
       "      <td>27.106771</td>\n",
       "      <td>winner</td>\n",
       "    </tr>\n",
       "    <tr>\n",
       "      <th>4552</th>\n",
       "      <td>1970</td>\n",
       "      <td>0</td>\n",
       "      <td>1458.876</td>\n",
       "      <td>1488.866</td>\n",
       "      <td>0.550214</td>\n",
       "      <td>0.449786</td>\n",
       "      <td>1462.726939</td>\n",
       "      <td>1484.068018</td>\n",
       "      <td>125.979821</td>\n",
       "      <td>149.501039</td>\n",
       "      <td>0.562264</td>\n",
       "      <td>0.437736</td>\n",
       "      <td>212.206074</td>\n",
       "      <td>79.655056</td>\n",
       "      <td>winner</td>\n",
       "    </tr>\n",
       "    <tr>\n",
       "      <th>4553</th>\n",
       "      <td>1970</td>\n",
       "      <td>0</td>\n",
       "      <td>1386.799</td>\n",
       "      <td>1436.731</td>\n",
       "      <td>0.521671</td>\n",
       "      <td>0.478329</td>\n",
       "      <td>1369.469608</td>\n",
       "      <td>1428.578167</td>\n",
       "      <td>-13.376009</td>\n",
       "      <td>25.344557</td>\n",
       "      <td>0.496323</td>\n",
       "      <td>0.503677</td>\n",
       "      <td>-21.695933</td>\n",
       "      <td>-45.285307</td>\n",
       "      <td>loser</td>\n",
       "    </tr>\n",
       "  </tbody>\n",
       "</table>\n",
       "</div>"
      ],
      "text/plain": [
       "      season  neutral  elo1_pre  elo2_pre  elo_prob1  elo_prob2   qbelo1_pre  \\\n",
       "4549    1970        0  1583.202  1426.127   0.782172   0.217828  1575.663197   \n",
       "4550    1970        0  1475.119  1382.173   0.712839   0.287161  1468.322928   \n",
       "4551    1970        0  1396.972  1638.776   0.265463   0.734537  1395.779057   \n",
       "4552    1970        0  1458.876  1488.866   0.550214   0.449786  1462.726939   \n",
       "4553    1970        0  1386.799  1436.731   0.521671   0.478329  1369.469608   \n",
       "\n",
       "       qbelo2_pre  qb1_value_pre  qb2_value_pre  qbelo_prob1  qbelo_prob2  \\\n",
       "4549  1419.063694     128.244691      49.900901     0.787242     0.212758   \n",
       "4550  1392.110372     157.629495      62.866097     0.702241     0.297759   \n",
       "4551  1634.838107      71.546016     134.503032     0.260615     0.739385   \n",
       "4552  1484.068018     125.979821     149.501039     0.562264     0.437736   \n",
       "4553  1428.578167     -13.376009      25.344557     0.496323     0.503677   \n",
       "\n",
       "      qb1_game_value  qb2_game_value  status  \n",
       "4549      243.822534       28.506966  winner  \n",
       "4550      140.963726      132.279803   loser  \n",
       "4551      219.250540       27.106771  winner  \n",
       "4552      212.206074       79.655056  winner  \n",
       "4553      -21.695933      -45.285307   loser  "
      ]
     },
     "execution_count": 71,
     "metadata": {},
     "output_type": "execute_result"
    }
   ],
   "source": [
    "df.head()"
   ]
  },
  {
   "cell_type": "code",
   "execution_count": 23,
   "metadata": {},
   "outputs": [
    {
     "name": "stdout",
     "output_type": "stream",
     "text": [
      "<class 'pandas.core.frame.DataFrame'>\n",
      "Int64Index: 11992 entries, 4549 to 16540\n",
      "Data columns (total 19 columns):\n",
      "date              11992 non-null object\n",
      "season            11992 non-null int64\n",
      "neutral           11992 non-null int64\n",
      "elo1_pre          11991 non-null float64\n",
      "elo2_pre          11991 non-null float64\n",
      "elo_prob1         11991 non-null float64\n",
      "elo_prob2         11991 non-null float64\n",
      "qbelo1_pre        11989 non-null float64\n",
      "qbelo2_pre        11989 non-null float64\n",
      "qb1_value_pre     11991 non-null float64\n",
      "qb2_value_pre     11991 non-null float64\n",
      "qb1_adj           11992 non-null float64\n",
      "qb2_adj           11992 non-null float64\n",
      "qbelo_prob1       11991 non-null float64\n",
      "qbelo_prob2       11991 non-null float64\n",
      "qb1_game_value    11989 non-null float64\n",
      "qb2_game_value    11989 non-null float64\n",
      "score1            11989 non-null float64\n",
      "score2            11989 non-null float64\n",
      "dtypes: float64(16), int64(2), object(1)\n",
      "memory usage: 1.8+ MB\n"
     ]
    }
   ],
   "source": [
    "df.info()"
   ]
  },
  {
   "cell_type": "code",
   "execution_count": null,
   "metadata": {},
   "outputs": [],
   "source": []
  }
 ],
 "metadata": {
  "kernelspec": {
   "display_name": "Python 3",
   "language": "python",
   "name": "python3"
  },
  "language_info": {
   "codemirror_mode": {
    "name": "ipython",
    "version": 3
   },
   "file_extension": ".py",
   "mimetype": "text/x-python",
   "name": "python",
   "nbconvert_exporter": "python",
   "pygments_lexer": "ipython3",
   "version": "3.7.4"
  }
 },
 "nbformat": 4,
 "nbformat_minor": 4
}
